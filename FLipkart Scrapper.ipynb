{
 "cells": [
  {
   "cell_type": "code",
   "execution_count": 7,
   "metadata": {},
   "outputs": [],
   "source": [
    "from bs4 import BeautifulSoup"
   ]
  },
  {
   "cell_type": "code",
   "execution_count": 8,
   "metadata": {},
   "outputs": [
    {
     "name": "stdout",
     "output_type": "stream",
     "text": [
      "<!DOCTYPE html>\n",
      "<html lang=\"en\">\n",
      "<head>\n",
      "\t<link href=\"https://rukminim1.flixcart.com\" rel=\"dns-prefetch\" />\n",
      "\t<link href=\"https://img1a.flixcart.com\" rel=\"dns-prefetch\" />\n",
      "\t<link rel=\"stylesheet\" href=\"//img1a.flixcart.com/www/linchpin/fk-cp-zion/css/app.chunk.e1f8bd.css\" />\n",
      "\n",
      "\t<link rel=\"preload\" href=\"//img1a.flixcart.com/www/linchpin/fk-cp-zion/img/fk-logo_9fddff.png\" as=\"image\">\n",
      "\n",
      "\t<meta http-equiv=\"Content-type\" content=\"text/html; charset=utf-8\"/>\n",
      "\t<meta http-equiv=\"X-UA-Compatible\" content=\"IE=Edge\" />\n",
      "\t<meta property=\"fb:page_id\" content=\"102988293558\"/>\n",
      "\t<meta property=\"fb:admins\" content=\"658873552,624500995,100000233612389\"/>\n",
      "\t<meta name=\"robots\" content=\"noodp\" />\n",
      "\n",
      "\t<link rel='shortcut icon' href=\"https://img1a.flixcart.com/www/promos/new/20150528-140547-favicon-retina.ico\" />\n",
      "\n",
      "\t<link type=\"application/opensearchdescription+xml\" rel=\"search\" href=\"/osdd.xml?v=2\"/>\n",
      "\n",
      "\t<meta property=\"og:type\" content=\"website\"/>\n",
      "\t<meta name=\"og_site_name\" property=\"og:site_name\" content=\"Flipkart\n"
     ]
    }
   ],
   "source": [
    "from requests import get\n",
    "url = 'https://www.flipkart.com/search?q=iphone+x&sid=tyy%2C4io&as=on&as-show=on&otracker=AS_QueryStore_OrganicAutoSuggest_1_1_na_na_pr&otracker1=AS_QueryStore_OrganicAutoSuggest_1_1_na_na_pr&as-pos=1&as-type=RECENT&suggestionId=iphone+x&requestId=cacdf3b6-fdb7-408f-9a3b-1b49e6536d35&as-searchtext=i'\n",
    "response = get(url)\n",
    "print(response.text[:1000])"
   ]
  },
  {
   "cell_type": "code",
   "execution_count": 9,
   "metadata": {},
   "outputs": [
    {
     "data": {
      "text/plain": [
       "bs4.BeautifulSoup"
      ]
     },
     "execution_count": 9,
     "metadata": {},
     "output_type": "execute_result"
    }
   ],
   "source": [
    "html_soup = BeautifulSoup(response.text,'html.parser')                          #html_soup is the object\n",
    "type(html_soup)"
   ]
  },
  {
   "cell_type": "code",
   "execution_count": 10,
   "metadata": {},
   "outputs": [
    {
     "name": "stdout",
     "output_type": "stream",
     "text": [
      "<class 'bs4.element.ResultSet'>\n",
      "24\n"
     ]
    }
   ],
   "source": [
    "phone_containers = html_soup.find_all('div',class_='_1UoZlX')\n",
    "print(type(phone_containers))\n",
    "print(len(phone_containers))"
   ]
  },
  {
   "cell_type": "code",
   "execution_count": 11,
   "metadata": {},
   "outputs": [
    {
     "data": {
      "text/plain": [
       "<div class=\"_1UoZlX\"><a class=\"_31qSD5\" href=\"/apple-iphone-x-silver-64-gb/p/itmexrgvze5as67e?pid=MOBEXRGVF8NHMGXJ&amp;srno=s_1_1&amp;otracker=AS_QueryStore_OrganicAutoSuggest_1_1_na_na_pr&amp;otracker1=AS_QueryStore_OrganicAutoSuggest_1_1_na_na_pr&amp;lid=LSTMOBEXRGVF8NHMGXJIYIKAW&amp;fm=organic&amp;iid=6ae5f395-7e8a-43bb-9e91-607e9c7b614a.MOBEXRGVF8NHMGXJ.SEARCH&amp;ssid=xhzavadju80000001567614450317&amp;qH=882a0465d260983a\" rel=\"noopener noreferrer\" target=\"_blank\"><div class=\"_3SQWE6\"><div class=\"_1OCn9C\"><div style=\"-webkit-filter:grayscale(1);-moz-filter:grayscale(1);-o-filter:grayscale(1);-ms-filter:grayscale(1);filter:grayscale(1);opacity:0.6\"><div class=\"_3BTv9X\" style=\"height:200px;width:200px\"><img alt=\"Apple iPhone X (Silver, 64 GB)\" class=\"_1Nyybr\" src=\"//img1a.flixcart.com/www/linchpin/fk-cp-zion/img/placeholder_9951d0.svg\"/></div></div><div class=\"_3aV9Tq\"><span class=\"_1GJ2ZM\">Not Deliverable</span></div></div><div class=\"_2lesQu\"><div class=\"_1O_CiZ\"><span class=\"_1iHA1p\"><div class=\"_2kFyHg\"><label><input class=\"_3uUUD5\" readonly=\"\" type=\"checkbox\"/><div class=\"_1p7h2j\"></div></label></div></span><label class=\"_10TB-Q\"><span>Add to Compare</span></label></div></div><div class=\"_3gDSOa _32A6AP\"><div class=\"DsQ2eg\"><svg class=\"_2oLiqr\" height=\"16\" viewbox=\"0 0 20 16\" width=\"16\" xmlns=\"http://www.w3.org/2000/svg\"><path class=\"_35Y7Yo\" d=\"M8.695 16.682C4.06 12.382 1 9.536 1 6.065 1 3.219 3.178 1 5.95 1c1.566 0 3.069.746 4.05 1.915C10.981 1.745 12.484 1 14.05 1 16.822 1 19 3.22 19 6.065c0 3.471-3.06 6.316-7.695 10.617L10 17.897l-1.305-1.215z\" fill=\"#2874F0\" fill-rule=\"evenodd\" opacity=\".9\" stroke=\"#FFF\"></path></svg></div></div></div><div class=\"_1-2Iqu row\"><div class=\"col col-7-12\"><div class=\"_3wU53n\">Apple iPhone X (Silver, 64 GB)</div><div class=\"niH0FQ\"><span class=\"_2_KrJI\" id=\"productRating_LSTMOBEXRGVF8NHMGXJIYIKAW_MOBEXRGVF8NHMGXJ_\"><div class=\"hGSR34\">4.6<img class=\"_2lQ_WZ\" src=\"data:image/svg+xml;base64,PHN2ZyB4bWxucz0iaHR0cDovL3d3dy53My5vcmcvMjAwMC9zdmciIHdpZHRoPSIxMyIgaGVpZ2h0PSIxMiI+PHBhdGggZmlsbD0iI0ZGRiIgZD0iTTYuNSA5LjQzOWwtMy42NzQgMi4yMy45NC00LjI2LTMuMjEtMi44ODMgNC4yNTQtLjQwNEw2LjUuMTEybDEuNjkgNC4wMSA0LjI1NC40MDQtMy4yMSAyLjg4Mi45NCA0LjI2eiIvPjwvc3ZnPg==\"/></div></span><span class=\"_38sUEc\"><span><span>8,288 Ratings </span><span class=\"_1VpSqZ\">&amp;</span><span> 704 Reviews</span></span></span></div><div class=\"_3ULzGw\"><ul class=\"vFw0gD\"><li class=\"tVe95H\">64 GB ROM |</li><li class=\"tVe95H\">14.73 cm (5.8 inch) Super Retina HD Display</li><li class=\"tVe95H\">12MP + 12MP | 7MP Front Camera</li><li class=\"tVe95H\">A11 Bionic Chip with 64-bit Architecture, Neural Engine, Embedded M11 Motion Coprocessor Processor</li><li class=\"tVe95H\">Brand Warranty of 1 Year</li></ul></div></div><div class=\"col col-5-12 _2o7WAb\"><div class=\"_6BWGkk\"><div class=\"_1uv9Cb\"><div class=\"_1vC4OE _2rQ-NK\">₹69,999</div><div class=\"_3auQ3N _2GcJzG\">₹<!-- -->91,900</div><div class=\"VGWI6T\"><span>23% off</span></div></div></div><div class=\"_3n6o0t\"><img height=\"21\" src=\"//img1a.flixcart.com/www/linchpin/fk-cp-zion/img/fa_8b4b59.png\"/></div><div class=\"_3gVem9\"><span>Up to <span class=\"_2xjzPG\">₹17,900</span> Off on Exchange</span></div><div class=\"_3MCpsc\">EMI starting from<!-- --> <span class=\"_1JT2XE\">₹<!-- -->2393<!-- -->/month</span></div><div class=\"OPF9v4 _2WQngC\"><span class=\"_1xZuAn\">Offers</span><ul class=\"_3U7997\"><li class=\"_1ZRRx1\">No Cost EMI</li><li class=\"_1ZRRx1\">Special Price</li></ul></div></div></div></a></div>"
      ]
     },
     "execution_count": 11,
     "metadata": {},
     "output_type": "execute_result"
    }
   ],
   "source": [
    "phone_containers[0]"
   ]
  },
  {
   "cell_type": "code",
   "execution_count": 12,
   "metadata": {},
   "outputs": [],
   "source": [
    "first_phone= phone_containers[0]"
   ]
  },
  {
   "cell_type": "code",
   "execution_count": 13,
   "metadata": {},
   "outputs": [
    {
     "name": "stdout",
     "output_type": "stream",
     "text": [
      "Apple iPhone X (Silver, 64 GB)\n"
     ]
    }
   ],
   "source": [
    "phone_name= first_phone.find('div', class_='_3wU53n' )\n",
    "phone_name=phone_name.text\n",
    "print(phone_name)"
   ]
  },
  {
   "cell_type": "code",
   "execution_count": 14,
   "metadata": {},
   "outputs": [
    {
     "name": "stdout",
     "output_type": "stream",
     "text": [
      "₹69,999\n"
     ]
    }
   ],
   "source": [
    "phone_cost = first_phone.find('div', class_='_1vC4OE _2rQ-NK' )\n",
    "phone_cost=phone_cost.text\n",
    "print(phone_cost)"
   ]
  },
  {
   "cell_type": "code",
   "execution_count": 15,
   "metadata": {},
   "outputs": [
    {
     "name": "stdout",
     "output_type": "stream",
     "text": [
      "4.6\n"
     ]
    }
   ],
   "source": [
    "phone_rating = first_phone.find('div', class_='hGSR34' )\n",
    "phone_rating=phone_rating.text\n",
    "print(phone_rating)"
   ]
  },
  {
   "cell_type": "code",
   "execution_count": 16,
   "metadata": {},
   "outputs": [],
   "source": [
    "#Creating containers of Name Cost Rating\n",
    "names= []\n",
    "costs= []\n",
    "ratings=[]\n",
    "\n",
    "for container in phone_containers:\n",
    "    name=container.find('div', class_='_3wU53n' ).text\n",
    "    names.append(name)\n",
    "    cost=container.find('div', class_='_1vC4OE _2rQ-NK' ).text\n",
    "    costs.append(cost)\n",
    "    #rating=container.find('div',class_='hGSR34' )\n",
    "    #ratings.append(rating)"
   ]
  },
  {
   "cell_type": "code",
   "execution_count": 63,
   "metadata": {},
   "outputs": [
    {
     "data": {
      "text/plain": [
       "['Apple iPhone X (Silver, 64 GB)',\n",
       " 'Apple iPhone X (Space Gray, 64 GB)',\n",
       " 'Apple iPhone X (Silver, 256 GB)',\n",
       " 'Apple iPhone X (Space Gray, 256 GB)',\n",
       " 'Apple iPhone 6s (Space Grey, 32 GB)',\n",
       " 'Apple iPhone 6s (Rose Gold, 32 GB)',\n",
       " 'Apple iPhone 6s (Gold, 32 GB)',\n",
       " 'Apple iPhone XR ((PRODUCT)RED, 64 GB)',\n",
       " 'Apple iPhone XR (Black, 128 GB)',\n",
       " 'Apple iPhone XR (White, 128 GB)',\n",
       " 'Apple iPhone XR (White, 64 GB)',\n",
       " 'Apple iPhone XS Max (Silver, 64 GB)',\n",
       " 'Apple iPhone XR ((PRODUCT)RED, 128 GB)',\n",
       " 'Apple iPhone XR (Blue, 64 GB)',\n",
       " 'Apple iPhone XR (Black, 64 GB)',\n",
       " 'Apple iPhone XR (Coral, 128 GB)',\n",
       " 'Apple iPhone XR (Coral, 64 GB)',\n",
       " 'Apple iPhone 6 (Space Grey, 32 GB)',\n",
       " 'Apple iPhone 6s (Silver, 32 GB)',\n",
       " 'Apple iPhone 8 Plus (Gold, 64 GB)',\n",
       " 'Apple iPhone XR (Blue, 128 GB)',\n",
       " 'Apple iPhone 8 Plus (Silver, 64 GB)',\n",
       " 'Apple iPhone 8 Plus (Space Grey, 256 GB)',\n",
       " 'Apple iPhone 8 Plus (Space Grey, 64 GB)']"
      ]
     },
     "execution_count": 63,
     "metadata": {},
     "output_type": "execute_result"
    }
   ],
   "source": [
    "names"
   ]
  },
  {
   "cell_type": "code",
   "execution_count": 79,
   "metadata": {},
   "outputs": [
    {
     "data": {
      "text/plain": [
       "['₹69,999',\n",
       " '₹69,999',\n",
       " '₹72,000',\n",
       " '₹71,900',\n",
       " '₹27,999',\n",
       " '₹27,999',\n",
       " '₹27,999',\n",
       " '₹57,999',\n",
       " '₹62,999',\n",
       " '₹62,999',\n",
       " '₹57,999',\n",
       " '₹1,09,900',\n",
       " '₹62,999',\n",
       " '₹57,999',\n",
       " '₹57,999',\n",
       " '₹62,999',\n",
       " '₹57,999',\n",
       " '₹27,999']"
      ]
     },
     "execution_count": 79,
     "metadata": {},
     "output_type": "execute_result"
    }
   ],
   "source": [
    "costs"
   ]
  },
  {
   "cell_type": "code",
   "execution_count": 17,
   "metadata": {},
   "outputs": [
    {
     "name": "stdout",
     "output_type": "stream",
     "text": [
      "<class 'pandas.core.frame.DataFrame'>\n",
      "RangeIndex: 24 entries, 0 to 23\n",
      "Data columns (total 2 columns):\n",
      "Model    24 non-null object\n",
      "Price    24 non-null object\n",
      "dtypes: object(2)\n",
      "memory usage: 464.0+ bytes\n",
      "None\n"
     ]
    },
    {
     "data": {
      "text/html": [
       "<div>\n",
       "<style scoped>\n",
       "    .dataframe tbody tr th:only-of-type {\n",
       "        vertical-align: middle;\n",
       "    }\n",
       "\n",
       "    .dataframe tbody tr th {\n",
       "        vertical-align: top;\n",
       "    }\n",
       "\n",
       "    .dataframe thead th {\n",
       "        text-align: right;\n",
       "    }\n",
       "</style>\n",
       "<table border=\"1\" class=\"dataframe\">\n",
       "  <thead>\n",
       "    <tr style=\"text-align: right;\">\n",
       "      <th></th>\n",
       "      <th>Model</th>\n",
       "      <th>Price</th>\n",
       "    </tr>\n",
       "  </thead>\n",
       "  <tbody>\n",
       "    <tr>\n",
       "      <th>0</th>\n",
       "      <td>Apple iPhone X (Silver, 64 GB)</td>\n",
       "      <td>₹69,999</td>\n",
       "    </tr>\n",
       "    <tr>\n",
       "      <th>1</th>\n",
       "      <td>Apple iPhone X (Space Gray, 64 GB)</td>\n",
       "      <td>₹69,999</td>\n",
       "    </tr>\n",
       "    <tr>\n",
       "      <th>2</th>\n",
       "      <td>Apple iPhone X (Silver, 256 GB)</td>\n",
       "      <td>₹72,000</td>\n",
       "    </tr>\n",
       "    <tr>\n",
       "      <th>3</th>\n",
       "      <td>Apple iPhone X (Space Gray, 256 GB)</td>\n",
       "      <td>₹71,900</td>\n",
       "    </tr>\n",
       "    <tr>\n",
       "      <th>4</th>\n",
       "      <td>Apple iPhone 6s (Space Grey, 32 GB)</td>\n",
       "      <td>₹27,999</td>\n",
       "    </tr>\n",
       "    <tr>\n",
       "      <th>5</th>\n",
       "      <td>Apple iPhone 6s (Gold, 32 GB)</td>\n",
       "      <td>₹27,999</td>\n",
       "    </tr>\n",
       "    <tr>\n",
       "      <th>6</th>\n",
       "      <td>Apple iPhone 6s (Rose Gold, 32 GB)</td>\n",
       "      <td>₹27,999</td>\n",
       "    </tr>\n",
       "    <tr>\n",
       "      <th>7</th>\n",
       "      <td>Apple iPhone XR ((PRODUCT)RED, 64 GB)</td>\n",
       "      <td>₹57,999</td>\n",
       "    </tr>\n",
       "    <tr>\n",
       "      <th>8</th>\n",
       "      <td>Apple iPhone XR (Black, 128 GB)</td>\n",
       "      <td>₹62,999</td>\n",
       "    </tr>\n",
       "    <tr>\n",
       "      <th>9</th>\n",
       "      <td>Apple iPhone XR (White, 128 GB)</td>\n",
       "      <td>₹62,999</td>\n",
       "    </tr>\n",
       "    <tr>\n",
       "      <th>10</th>\n",
       "      <td>Apple iPhone XR (White, 64 GB)</td>\n",
       "      <td>₹57,999</td>\n",
       "    </tr>\n",
       "    <tr>\n",
       "      <th>11</th>\n",
       "      <td>Apple iPhone XR ((PRODUCT)RED, 128 GB)</td>\n",
       "      <td>₹62,999</td>\n",
       "    </tr>\n",
       "    <tr>\n",
       "      <th>12</th>\n",
       "      <td>Apple iPhone XR (Blue, 64 GB)</td>\n",
       "      <td>₹57,999</td>\n",
       "    </tr>\n",
       "    <tr>\n",
       "      <th>13</th>\n",
       "      <td>Apple iPhone XR (Black, 64 GB)</td>\n",
       "      <td>₹57,999</td>\n",
       "    </tr>\n",
       "    <tr>\n",
       "      <th>14</th>\n",
       "      <td>Apple iPhone XR (Coral, 128 GB)</td>\n",
       "      <td>₹62,999</td>\n",
       "    </tr>\n",
       "    <tr>\n",
       "      <th>15</th>\n",
       "      <td>Apple iPhone XR (Coral, 64 GB)</td>\n",
       "      <td>₹57,999</td>\n",
       "    </tr>\n",
       "    <tr>\n",
       "      <th>16</th>\n",
       "      <td>Apple iPhone 6 (Space Grey, 32 GB)</td>\n",
       "      <td>₹27,999</td>\n",
       "    </tr>\n",
       "    <tr>\n",
       "      <th>17</th>\n",
       "      <td>Apple iPhone 6s (Silver, 32 GB)</td>\n",
       "      <td>₹29,601</td>\n",
       "    </tr>\n",
       "    <tr>\n",
       "      <th>18</th>\n",
       "      <td>Apple iPhone XR (Blue, 128 GB)</td>\n",
       "      <td>₹64,899</td>\n",
       "    </tr>\n",
       "    <tr>\n",
       "      <th>19</th>\n",
       "      <td>Apple iPhone 8 Plus (Silver, 64 GB)</td>\n",
       "      <td>₹51,999</td>\n",
       "    </tr>\n",
       "    <tr>\n",
       "      <th>20</th>\n",
       "      <td>Apple iPhone 8 Plus (Space Grey, 64 GB)</td>\n",
       "      <td>₹51,999</td>\n",
       "    </tr>\n",
       "    <tr>\n",
       "      <th>21</th>\n",
       "      <td>Apple iPhone 8 Plus (Space Grey, 256 GB)</td>\n",
       "      <td>₹84,900</td>\n",
       "    </tr>\n",
       "    <tr>\n",
       "      <th>22</th>\n",
       "      <td>Apple iPhone 7 Plus (Red, 128 GB)</td>\n",
       "      <td>₹57,990</td>\n",
       "    </tr>\n",
       "    <tr>\n",
       "      <th>23</th>\n",
       "      <td>Apple iPhone 8 (PRODUCT)RED (Red, 64 GB)</td>\n",
       "      <td>₹53,490</td>\n",
       "    </tr>\n",
       "  </tbody>\n",
       "</table>\n",
       "</div>"
      ],
      "text/plain": [
       "                                       Model    Price\n",
       "0             Apple iPhone X (Silver, 64 GB)  ₹69,999\n",
       "1         Apple iPhone X (Space Gray, 64 GB)  ₹69,999\n",
       "2            Apple iPhone X (Silver, 256 GB)  ₹72,000\n",
       "3        Apple iPhone X (Space Gray, 256 GB)  ₹71,900\n",
       "4        Apple iPhone 6s (Space Grey, 32 GB)  ₹27,999\n",
       "5              Apple iPhone 6s (Gold, 32 GB)  ₹27,999\n",
       "6         Apple iPhone 6s (Rose Gold, 32 GB)  ₹27,999\n",
       "7      Apple iPhone XR ((PRODUCT)RED, 64 GB)  ₹57,999\n",
       "8            Apple iPhone XR (Black, 128 GB)  ₹62,999\n",
       "9            Apple iPhone XR (White, 128 GB)  ₹62,999\n",
       "10            Apple iPhone XR (White, 64 GB)  ₹57,999\n",
       "11    Apple iPhone XR ((PRODUCT)RED, 128 GB)  ₹62,999\n",
       "12             Apple iPhone XR (Blue, 64 GB)  ₹57,999\n",
       "13            Apple iPhone XR (Black, 64 GB)  ₹57,999\n",
       "14           Apple iPhone XR (Coral, 128 GB)  ₹62,999\n",
       "15            Apple iPhone XR (Coral, 64 GB)  ₹57,999\n",
       "16        Apple iPhone 6 (Space Grey, 32 GB)  ₹27,999\n",
       "17           Apple iPhone 6s (Silver, 32 GB)  ₹29,601\n",
       "18            Apple iPhone XR (Blue, 128 GB)  ₹64,899\n",
       "19       Apple iPhone 8 Plus (Silver, 64 GB)  ₹51,999\n",
       "20   Apple iPhone 8 Plus (Space Grey, 64 GB)  ₹51,999\n",
       "21  Apple iPhone 8 Plus (Space Grey, 256 GB)  ₹84,900\n",
       "22         Apple iPhone 7 Plus (Red, 128 GB)  ₹57,990\n",
       "23  Apple iPhone 8 (PRODUCT)RED (Red, 64 GB)  ₹53,490"
      ]
     },
     "execution_count": 17,
     "metadata": {},
     "output_type": "execute_result"
    }
   ],
   "source": [
    "import pandas as pd\n",
    "test_df = pd.DataFrame({'Model':names,\n",
    "                        'Price':costs,})                                             #DataFrame has D and F capitals\n",
    "\n",
    "\n",
    "print(test_df.info())\n",
    "test_df"
   ]
  },
  {
   "cell_type": "code",
   "execution_count": 18,
   "metadata": {},
   "outputs": [
    {
     "name": "stdout",
     "output_type": "stream",
     "text": [
      "product_name:Apple iPhone X (Silver, 64 GB)\n",
      "price:₹69,999\n",
      "product_name:Apple iPhone X (Space Gray, 64 GB)\n",
      "price:₹69,999\n",
      "product_name:Apple iPhone X (Silver, 256 GB)\n",
      "price:₹72,000\n",
      "product_name:Apple iPhone X (Space Gray, 256 GB)\n",
      "price:₹71,900\n",
      "product_name:Apple iPhone 6s (Space Grey, 32 GB)\n",
      "price:₹27,999\n",
      "product_name:Apple iPhone 6s (Gold, 32 GB)\n",
      "price:₹27,999\n",
      "product_name:Apple iPhone 6s (Rose Gold, 32 GB)\n",
      "price:₹27,999\n",
      "product_name:Apple iPhone XR ((PRODUCT)RED, 64 GB)\n",
      "price:₹57,999\n",
      "product_name:Apple iPhone XR (Black, 128 GB)\n",
      "price:₹62,999\n",
      "product_name:Apple iPhone XR (White, 128 GB)\n",
      "price:₹62,999\n",
      "product_name:Apple iPhone XR (White, 64 GB)\n",
      "price:₹57,999\n",
      "product_name:Apple iPhone XR ((PRODUCT)RED, 128 GB)\n",
      "price:₹62,999\n",
      "product_name:Apple iPhone XR (Blue, 64 GB)\n",
      "price:₹57,999\n",
      "product_name:Apple iPhone XR (Black, 64 GB)\n",
      "price:₹57,999\n",
      "product_name:Apple iPhone XR (Coral, 128 GB)\n",
      "price:₹62,999\n",
      "product_name:Apple iPhone XR (Coral, 64 GB)\n",
      "price:₹57,999\n",
      "product_name:Apple iPhone 6 (Space Grey, 32 GB)\n",
      "price:₹27,999\n",
      "product_name:Apple iPhone 6s (Silver, 32 GB)\n",
      "price:₹29,601\n",
      "product_name:Apple iPhone XR (Blue, 128 GB)\n",
      "price:₹64,899\n",
      "product_name:Apple iPhone 8 Plus (Silver, 64 GB)\n",
      "price:₹51,999\n",
      "product_name:Apple iPhone 8 Plus (Space Grey, 64 GB)\n",
      "price:₹51,999\n",
      "product_name:Apple iPhone 8 Plus (Space Grey, 256 GB)\n",
      "price:₹84,900\n",
      "product_name:Apple iPhone 7 Plus (Red, 128 GB)\n",
      "price:₹57,990\n",
      "product_name:Apple iPhone 8 (PRODUCT)RED (Red, 64 GB)\n",
      "price:₹53,490\n"
     ]
    }
   ],
   "source": [
    "filename = \"product.csv\"\n",
    "f = open(filename,\"w\")\n",
    "headers = \"Product_Name,Price,Rating\\n\"\n",
    "f.write(headers)\n",
    "\n",
    "for container in phone_containers:\n",
    "    name=container.find('div', class_='_3wU53n' ).text\n",
    "    cost=container.find('div', class_='_1vC4OE _2rQ-NK' ).text\n",
    "        \n",
    "    print(\"product_name:\" + name)\n",
    "    print(\"price:\" + cost)\n",
    "    "
   ]
  },
  {
   "cell_type": "code",
   "execution_count": null,
   "metadata": {},
   "outputs": [],
   "source": []
  }
 ],
 "metadata": {
  "kernelspec": {
   "display_name": "Python 3",
   "language": "python",
   "name": "python3"
  },
  "language_info": {
   "codemirror_mode": {
    "name": "ipython",
    "version": 3
   },
   "file_extension": ".py",
   "mimetype": "text/x-python",
   "name": "python",
   "nbconvert_exporter": "python",
   "pygments_lexer": "ipython3",
   "version": "3.7.3"
  }
 },
 "nbformat": 4,
 "nbformat_minor": 2
}
